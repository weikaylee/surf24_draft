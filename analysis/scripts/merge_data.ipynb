{
 "cells": [
  {
   "cell_type": "code",
   "execution_count": null,
   "metadata": {},
   "outputs": [],
   "source": [
    "# merge health data and annual measures data for now (pca data later) "
   ]
  },
  {
   "cell_type": "code",
   "execution_count": 1,
   "metadata": {},
   "outputs": [],
   "source": [
    "import os\n",
    "import pandas as pd"
   ]
  },
  {
   "cell_type": "code",
   "execution_count": 2,
   "metadata": {},
   "outputs": [
    {
     "name": "stdout",
     "output_type": "stream",
     "text": [
      "<class 'pandas.core.frame.DataFrame'>\n",
      "RangeIndex: 4626 entries, 0 to 4625\n",
      "Columns: 171 entries, YEAR to HEATWAVE_CNT\n",
      "dtypes: float64(144), int64(27)\n",
      "memory usage: 6.0 MB\n"
     ]
    }
   ],
   "source": [
    "# load annual measures\n",
    "annual_measures = pd.read_csv(os.path.join(\"..\", \"processed\", \"collapsed_measures\", \"LA_zipcode_measures_all_years.csv\"))\n",
    "annual_measures.info()"
   ]
  },
  {
   "cell_type": "code",
   "execution_count": 5,
   "metadata": {},
   "outputs": [
    {
     "name": "stdout",
     "output_type": "stream",
     "text": [
      "<class 'pandas.core.frame.DataFrame'>\n",
      "RangeIndex: 3936 entries, 0 to 3935\n",
      "Data columns (total 22 columns):\n",
      " #   Column              Non-Null Count  Dtype  \n",
      "---  ------              --------------  -----  \n",
      " 0   Year                3936 non-null   int64  \n",
      " 1   Zipcode             3936 non-null   int64  \n",
      " 2   Age_0_4             3936 non-null   float64\n",
      " 3   Age_5_14            3936 non-null   int64  \n",
      " 4   Age_15_64           3936 non-null   float64\n",
      " 5   Age_65_84           3936 non-null   float64\n",
      " 6   Age_85_and_Over     3936 non-null   float64\n",
      " 7   Accidents           3936 non-null   float64\n",
      " 8   Total               3936 non-null   float64\n",
      " 9   Alzheimers          3936 non-null   float64\n",
      " 10  Homicide            3936 non-null   float64\n",
      " 11  Cerebrovascular     3936 non-null   float64\n",
      " 12  Cirrhosis           3936 non-null   float64\n",
      " 13  Respiratory         3936 non-null   float64\n",
      " 14  Diabetes            3936 non-null   float64\n",
      " 15  Heart               3936 non-null   float64\n",
      " 16  Hypertension        3936 non-null   float64\n",
      " 17  InfluenzaPneumonia  3936 non-null   float64\n",
      " 18  Suicide             3936 non-null   float64\n",
      " 19  Neoplasms           3936 non-null   float64\n",
      " 20  Nephrosis           3936 non-null   float64\n",
      " 21  Parkinsons          3936 non-null   float64\n",
      "dtypes: float64(19), int64(3)\n",
      "memory usage: 676.6 KB\n"
     ]
    }
   ],
   "source": [
    "# load health data (just mortality for now)\n",
    "mortality = pd.read_csv(os.path.join(\"..\", \"processed\", \"health_data\", \"mortality_rates_catchment_correct_final.csv\"))\n",
    "mortality.info()"
   ]
  },
  {
   "cell_type": "code",
   "execution_count": 20,
   "metadata": {},
   "outputs": [],
   "source": [
    "# compare zipcodes and years used for each\n",
    "measures_zips = annual_measures.loc[annual_measures[\"YEAR\"] == 2003, \"ZIPCODE\"]\n",
    "mortality_zips = mortality.loc[mortality[\"Year\"] == 2005, \"Zipcode\"]\n",
    "\n",
    "measures_years = annual_measures[\"YEAR\"].unique()\n",
    "mortality_years = mortality[\"Year\"].unique()\n"
   ]
  },
  {
   "cell_type": "code",
   "execution_count": 21,
   "metadata": {},
   "outputs": [
    {
     "name": "stdout",
     "output_type": "stream",
     "text": [
      "0      90001\n",
      "1      90002\n",
      "2      90003\n",
      "3      90004\n",
      "4      90005\n",
      "       ...  \n",
      "252    91790\n",
      "253    91791\n",
      "254    91792\n",
      "255    91801\n",
      "256    91803\n",
      "Name: ZIPCODE, Length: 257, dtype: int64\n",
      "[2003 2004 2005 2006 2007 2008 2009 2010 2011 2012 2013 2014 2015 2016\n",
      " 2017 2018 2019 2020]\n"
     ]
    }
   ],
   "source": [
    "print(measures_zips)\n",
    "print(measures_years)"
   ]
  },
  {
   "cell_type": "code",
   "execution_count": 22,
   "metadata": {},
   "outputs": [
    {
     "name": "stdout",
     "output_type": "stream",
     "text": [
      "0      90001\n",
      "1      90002\n",
      "2      90003\n",
      "3      90004\n",
      "4      90005\n",
      "       ...  \n",
      "241    91790\n",
      "242    91791\n",
      "243    91792\n",
      "244    91801\n",
      "245    91803\n",
      "Name: Zipcode, Length: 246, dtype: int64\n",
      "[2005 2006 2007 2008 2009 2010 2011 2012 2013 2014 2015 2016 2017 2018\n",
      " 2019 2020]\n"
     ]
    }
   ],
   "source": [
    "print(mortality_zips)\n",
    "print(mortality_years)"
   ]
  },
  {
   "cell_type": "code",
   "execution_count": 23,
   "metadata": {},
   "outputs": [
    {
     "name": "stdout",
     "output_type": "stream",
     "text": [
      "<class 'pandas.core.frame.DataFrame'>\n",
      "Index: 3936 entries, 514 to 4625\n",
      "Columns: 171 entries, YEAR to HEATWAVE_CNT\n",
      "dtypes: float64(144), int64(27)\n",
      "memory usage: 5.2 MB\n"
     ]
    }
   ],
   "source": [
    "# filter annual measures to only contain moratality zips and mortality years\n",
    "annual_measures_filtered = annual_measures[annual_measures.loc[:, \"ZIPCODE\"].isin(mortality_zips) & annual_measures.loc[:, \"YEAR\"].isin(mortality_years)]\n",
    "annual_measures_filtered.info()"
   ]
  },
  {
   "cell_type": "code",
   "execution_count": 25,
   "metadata": {},
   "outputs": [],
   "source": [
    "annual_measures_filtered.reset_index(drop=True, inplace=True)"
   ]
  },
  {
   "cell_type": "code",
   "execution_count": 27,
   "metadata": {},
   "outputs": [
    {
     "data": {
      "text/html": [
       "<div>\n",
       "<style scoped>\n",
       "    .dataframe tbody tr th:only-of-type {\n",
       "        vertical-align: middle;\n",
       "    }\n",
       "\n",
       "    .dataframe tbody tr th {\n",
       "        vertical-align: top;\n",
       "    }\n",
       "\n",
       "    .dataframe thead th {\n",
       "        text-align: right;\n",
       "    }\n",
       "</style>\n",
       "<table border=\"1\" class=\"dataframe\">\n",
       "  <thead>\n",
       "    <tr style=\"text-align: right;\">\n",
       "      <th></th>\n",
       "      <th>YEAR</th>\n",
       "      <th>ZIPCODE</th>\n",
       "      <th>DAILY_AVG_TEMP_Inf_0</th>\n",
       "      <th>DAILY_AVG_TEMP_0_1</th>\n",
       "      <th>DAILY_AVG_TEMP_1_2</th>\n",
       "      <th>DAILY_AVG_TEMP_2_3</th>\n",
       "      <th>DAILY_AVG_TEMP_3_4</th>\n",
       "      <th>DAILY_AVG_TEMP_4_5</th>\n",
       "      <th>DAILY_AVG_TEMP_5_6</th>\n",
       "      <th>DAILY_AVG_TEMP_6_7</th>\n",
       "      <th>...</th>\n",
       "      <th>DIURNAL_TEMP_RNG_32_33</th>\n",
       "      <th>DIURNAL_TEMP_RNG_33_34</th>\n",
       "      <th>DIURNAL_TEMP_RNG_34_35</th>\n",
       "      <th>DIURNAL_TEMP_RNG_35_36</th>\n",
       "      <th>DIURNAL_TEMP_RNG_36_37</th>\n",
       "      <th>DIURNAL_TEMP_RNG_37_38</th>\n",
       "      <th>DIURNAL_TEMP_RNG_38_39</th>\n",
       "      <th>DIURNAL_TEMP_RNG_39_40</th>\n",
       "      <th>DIURNAL_TEMP_RNG_40_Inf</th>\n",
       "      <th>HEATWAVE_CNT</th>\n",
       "    </tr>\n",
       "  </thead>\n",
       "  <tbody>\n",
       "    <tr>\n",
       "      <th>3931</th>\n",
       "      <td>2020</td>\n",
       "      <td>91790</td>\n",
       "      <td>0.0</td>\n",
       "      <td>0.0</td>\n",
       "      <td>0.0</td>\n",
       "      <td>0.0</td>\n",
       "      <td>0.0</td>\n",
       "      <td>0.0</td>\n",
       "      <td>0.0</td>\n",
       "      <td>0.0</td>\n",
       "      <td>...</td>\n",
       "      <td>0</td>\n",
       "      <td>0</td>\n",
       "      <td>0</td>\n",
       "      <td>0</td>\n",
       "      <td>0</td>\n",
       "      <td>0</td>\n",
       "      <td>0</td>\n",
       "      <td>0</td>\n",
       "      <td>0</td>\n",
       "      <td>6.521943</td>\n",
       "    </tr>\n",
       "    <tr>\n",
       "      <th>3932</th>\n",
       "      <td>2020</td>\n",
       "      <td>91791</td>\n",
       "      <td>0.0</td>\n",
       "      <td>0.0</td>\n",
       "      <td>0.0</td>\n",
       "      <td>0.0</td>\n",
       "      <td>0.0</td>\n",
       "      <td>0.0</td>\n",
       "      <td>0.0</td>\n",
       "      <td>0.0</td>\n",
       "      <td>...</td>\n",
       "      <td>0</td>\n",
       "      <td>0</td>\n",
       "      <td>0</td>\n",
       "      <td>0</td>\n",
       "      <td>0</td>\n",
       "      <td>0</td>\n",
       "      <td>0</td>\n",
       "      <td>0</td>\n",
       "      <td>0</td>\n",
       "      <td>5.923969</td>\n",
       "    </tr>\n",
       "    <tr>\n",
       "      <th>3933</th>\n",
       "      <td>2020</td>\n",
       "      <td>91792</td>\n",
       "      <td>0.0</td>\n",
       "      <td>0.0</td>\n",
       "      <td>0.0</td>\n",
       "      <td>0.0</td>\n",
       "      <td>0.0</td>\n",
       "      <td>0.0</td>\n",
       "      <td>0.0</td>\n",
       "      <td>0.0</td>\n",
       "      <td>...</td>\n",
       "      <td>0</td>\n",
       "      <td>0</td>\n",
       "      <td>0</td>\n",
       "      <td>0</td>\n",
       "      <td>0</td>\n",
       "      <td>0</td>\n",
       "      <td>0</td>\n",
       "      <td>0</td>\n",
       "      <td>0</td>\n",
       "      <td>5.058040</td>\n",
       "    </tr>\n",
       "    <tr>\n",
       "      <th>3934</th>\n",
       "      <td>2020</td>\n",
       "      <td>91801</td>\n",
       "      <td>0.0</td>\n",
       "      <td>0.0</td>\n",
       "      <td>0.0</td>\n",
       "      <td>0.0</td>\n",
       "      <td>0.0</td>\n",
       "      <td>0.0</td>\n",
       "      <td>0.0</td>\n",
       "      <td>0.0</td>\n",
       "      <td>...</td>\n",
       "      <td>0</td>\n",
       "      <td>0</td>\n",
       "      <td>0</td>\n",
       "      <td>0</td>\n",
       "      <td>0</td>\n",
       "      <td>0</td>\n",
       "      <td>0</td>\n",
       "      <td>0</td>\n",
       "      <td>0</td>\n",
       "      <td>5.578315</td>\n",
       "    </tr>\n",
       "    <tr>\n",
       "      <th>3935</th>\n",
       "      <td>2020</td>\n",
       "      <td>91803</td>\n",
       "      <td>0.0</td>\n",
       "      <td>0.0</td>\n",
       "      <td>0.0</td>\n",
       "      <td>0.0</td>\n",
       "      <td>0.0</td>\n",
       "      <td>0.0</td>\n",
       "      <td>0.0</td>\n",
       "      <td>0.0</td>\n",
       "      <td>...</td>\n",
       "      <td>0</td>\n",
       "      <td>0</td>\n",
       "      <td>0</td>\n",
       "      <td>0</td>\n",
       "      <td>0</td>\n",
       "      <td>0</td>\n",
       "      <td>0</td>\n",
       "      <td>0</td>\n",
       "      <td>0</td>\n",
       "      <td>5.483635</td>\n",
       "    </tr>\n",
       "  </tbody>\n",
       "</table>\n",
       "<p>5 rows × 171 columns</p>\n",
       "</div>"
      ],
      "text/plain": [
       "      YEAR  ZIPCODE  DAILY_AVG_TEMP_Inf_0  DAILY_AVG_TEMP_0_1  \\\n",
       "3931  2020    91790                   0.0                 0.0   \n",
       "3932  2020    91791                   0.0                 0.0   \n",
       "3933  2020    91792                   0.0                 0.0   \n",
       "3934  2020    91801                   0.0                 0.0   \n",
       "3935  2020    91803                   0.0                 0.0   \n",
       "\n",
       "      DAILY_AVG_TEMP_1_2  DAILY_AVG_TEMP_2_3  DAILY_AVG_TEMP_3_4  \\\n",
       "3931                 0.0                 0.0                 0.0   \n",
       "3932                 0.0                 0.0                 0.0   \n",
       "3933                 0.0                 0.0                 0.0   \n",
       "3934                 0.0                 0.0                 0.0   \n",
       "3935                 0.0                 0.0                 0.0   \n",
       "\n",
       "      DAILY_AVG_TEMP_4_5  DAILY_AVG_TEMP_5_6  DAILY_AVG_TEMP_6_7  ...  \\\n",
       "3931                 0.0                 0.0                 0.0  ...   \n",
       "3932                 0.0                 0.0                 0.0  ...   \n",
       "3933                 0.0                 0.0                 0.0  ...   \n",
       "3934                 0.0                 0.0                 0.0  ...   \n",
       "3935                 0.0                 0.0                 0.0  ...   \n",
       "\n",
       "      DIURNAL_TEMP_RNG_32_33  DIURNAL_TEMP_RNG_33_34  DIURNAL_TEMP_RNG_34_35  \\\n",
       "3931                       0                       0                       0   \n",
       "3932                       0                       0                       0   \n",
       "3933                       0                       0                       0   \n",
       "3934                       0                       0                       0   \n",
       "3935                       0                       0                       0   \n",
       "\n",
       "      DIURNAL_TEMP_RNG_35_36  DIURNAL_TEMP_RNG_36_37  DIURNAL_TEMP_RNG_37_38  \\\n",
       "3931                       0                       0                       0   \n",
       "3932                       0                       0                       0   \n",
       "3933                       0                       0                       0   \n",
       "3934                       0                       0                       0   \n",
       "3935                       0                       0                       0   \n",
       "\n",
       "      DIURNAL_TEMP_RNG_38_39  DIURNAL_TEMP_RNG_39_40  DIURNAL_TEMP_RNG_40_Inf  \\\n",
       "3931                       0                       0                        0   \n",
       "3932                       0                       0                        0   \n",
       "3933                       0                       0                        0   \n",
       "3934                       0                       0                        0   \n",
       "3935                       0                       0                        0   \n",
       "\n",
       "      HEATWAVE_CNT  \n",
       "3931      6.521943  \n",
       "3932      5.923969  \n",
       "3933      5.058040  \n",
       "3934      5.578315  \n",
       "3935      5.483635  \n",
       "\n",
       "[5 rows x 171 columns]"
      ]
     },
     "execution_count": 27,
     "metadata": {},
     "output_type": "execute_result"
    }
   ],
   "source": [
    "annual_measures_filtered.tail()"
   ]
  },
  {
   "cell_type": "code",
   "execution_count": 33,
   "metadata": {},
   "outputs": [],
   "source": [
    "mortality.rename(columns={\"Year\":\"YEAR\", \"Zipcode\":\"ZIPCODE\"}, inplace=True)"
   ]
  },
  {
   "cell_type": "code",
   "execution_count": 38,
   "metadata": {},
   "outputs": [],
   "source": [
    "# merge the two dfs!\n",
    "measures_mortality = annual_measures_filtered.merge(mortality, on=[\"YEAR\", \"ZIPCODE\"])"
   ]
  },
  {
   "cell_type": "code",
   "execution_count": 39,
   "metadata": {},
   "outputs": [
    {
     "name": "stdout",
     "output_type": "stream",
     "text": [
      "<class 'pandas.core.frame.DataFrame'>\n",
      "RangeIndex: 3936 entries, 0 to 3935\n",
      "Columns: 191 entries, YEAR to Parkinsons\n",
      "dtypes: float64(163), int64(28)\n",
      "memory usage: 5.7 MB\n"
     ]
    }
   ],
   "source": [
    "measures_mortality.info()"
   ]
  },
  {
   "cell_type": "code",
   "execution_count": 40,
   "metadata": {},
   "outputs": [],
   "source": [
    "# save \n",
    "out_path = os.path.join(\"..\", \"processed\", \"merged\", \"measures_mortality.csv\")\n",
    "measures_mortality.to_csv(out_path, index=False)"
   ]
  }
 ],
 "metadata": {
  "kernelspec": {
   "display_name": "Python 3",
   "language": "python",
   "name": "python3"
  },
  "language_info": {
   "codemirror_mode": {
    "name": "ipython",
    "version": 3
   },
   "file_extension": ".py",
   "mimetype": "text/x-python",
   "name": "python",
   "nbconvert_exporter": "python",
   "pygments_lexer": "ipython3",
   "version": "3.10.5"
  }
 },
 "nbformat": 4,
 "nbformat_minor": 2
}
